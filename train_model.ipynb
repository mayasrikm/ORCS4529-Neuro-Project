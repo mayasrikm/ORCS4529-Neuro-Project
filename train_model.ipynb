{
  "nbformat": 4,
  "nbformat_minor": 0,
  "metadata": {
    "colab": {
      "provenance": []
    },
    "kernelspec": {
      "name": "python3",
      "display_name": "Python 3"
    },
    "language_info": {
      "name": "python"
    }
  },
  "cells": [
    {
      "cell_type": "code",
      "execution_count": null,
      "metadata": {
        "id": "EBiuBbAIp-GI"
      },
      "outputs": [],
      "source": [
        "alpha = 0.1\n",
        "phi = zeros((1, num_inputs))          # (1, num_inputs) denotes inputs from environment, zeros are placeholder for what the actual input values are\n",
        "w = np.random.randn((num_inputs, 1))  # (num_inputs, 1) weights used to learn importance of each input\n",
        "#create sparse array B\n",
        "B = np.zeros((num_neurons, num_inputs)) #(num_neurons, num_inputs) represents weighted combination of what input values each neuron sees\n",
        "num_elements = num_neurons * num_inputs\n",
        "sparsity = 0.2\n",
        "indices = np.random.choice(num_elements, num_elements*sparsity, replace=False)\n",
        "B.flat[indices] = np.random.randn(num_elements*sparsity)\n",
        "\n",
        "\n",
        "for i in training_episodes:\n",
        "  V = phi * w\n",
        "  D =  B * V                      # (num_neurons, 1) list of decisions between left (0) and right (1)\n",
        "  r = env.get_reward_vals         # (num_neurons, 1) correct decisions -- get_reward_vals needs to return the correct decision given the environment state\n",
        "  delta = abs(D - r)              # (num_neurons, 1) error between decision and correct decision\n",
        "  w = w + alpha*(A.T*delta)       #w update"
      ]
    }
  ]
}