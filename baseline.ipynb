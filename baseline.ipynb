{
  "cells": [
    {
      "cell_type": "code",
      "execution_count": 7,
      "metadata": {
        "id": "04UwqVpoPeXi"
      },
      "outputs": [
        {
          "name": "stdout",
          "output_type": "stream",
          "text": [
            "Requirement already satisfied: gym in /Users/mayasrikm/opt/anaconda3/lib/python3.9/site-packages (0.26.2)\n",
            "Requirement already satisfied: numpy>=1.18.0 in /Users/mayasrikm/opt/anaconda3/lib/python3.9/site-packages (from gym) (1.23.5)\n",
            "Requirement already satisfied: importlib-metadata>=4.8.0 in /Users/mayasrikm/opt/anaconda3/lib/python3.9/site-packages (from gym) (4.11.3)\n",
            "Requirement already satisfied: cloudpickle>=1.2.0 in /Users/mayasrikm/opt/anaconda3/lib/python3.9/site-packages (from gym) (2.0.0)\n",
            "Requirement already satisfied: gym-notices>=0.0.4 in /Users/mayasrikm/opt/anaconda3/lib/python3.9/site-packages (from gym) (0.0.8)\n",
            "Requirement already satisfied: zipp>=0.5 in /Users/mayasrikm/opt/anaconda3/lib/python3.9/site-packages (from importlib-metadata>=4.8.0->gym) (3.8.0)\n",
            "fatal: destination path 'neurogym' already exists and is not an empty directory.\n",
            "/Users/mayasrikm/Desktop/Code/rl/ORCS4529-Neuro-Project/neurogym\n",
            "Obtaining file:///Users/mayasrikm/Desktop/Code/rl/ORCS4529-Neuro-Project/neurogym\n",
            "  Preparing metadata (setup.py) ... \u001b[?25ldone\n",
            "\u001b[?25hRequirement already satisfied: numpy in /Users/mayasrikm/opt/anaconda3/lib/python3.9/site-packages (from neurogym==0.0.2) (1.23.5)\n",
            "Requirement already satisfied: gym in /Users/mayasrikm/opt/anaconda3/lib/python3.9/site-packages (from neurogym==0.0.2) (0.26.2)\n",
            "Requirement already satisfied: matplotlib in /Users/mayasrikm/opt/anaconda3/lib/python3.9/site-packages (from neurogym==0.0.2) (3.5.2)\n",
            "Requirement already satisfied: cloudpickle>=1.2.0 in /Users/mayasrikm/opt/anaconda3/lib/python3.9/site-packages (from gym->neurogym==0.0.2) (2.0.0)\n",
            "Requirement already satisfied: gym-notices>=0.0.4 in /Users/mayasrikm/opt/anaconda3/lib/python3.9/site-packages (from gym->neurogym==0.0.2) (0.0.8)\n",
            "Requirement already satisfied: importlib-metadata>=4.8.0 in /Users/mayasrikm/opt/anaconda3/lib/python3.9/site-packages (from gym->neurogym==0.0.2) (4.11.3)\n",
            "Requirement already satisfied: kiwisolver>=1.0.1 in /Users/mayasrikm/opt/anaconda3/lib/python3.9/site-packages (from matplotlib->neurogym==0.0.2) (1.4.2)\n",
            "Requirement already satisfied: pyparsing>=2.2.1 in /Users/mayasrikm/opt/anaconda3/lib/python3.9/site-packages (from matplotlib->neurogym==0.0.2) (3.0.9)\n",
            "Requirement already satisfied: cycler>=0.10 in /Users/mayasrikm/opt/anaconda3/lib/python3.9/site-packages (from matplotlib->neurogym==0.0.2) (0.11.0)\n",
            "Requirement already satisfied: fonttools>=4.22.0 in /Users/mayasrikm/opt/anaconda3/lib/python3.9/site-packages (from matplotlib->neurogym==0.0.2) (4.25.0)\n",
            "Requirement already satisfied: pillow>=6.2.0 in /Users/mayasrikm/opt/anaconda3/lib/python3.9/site-packages (from matplotlib->neurogym==0.0.2) (9.2.0)\n",
            "Requirement already satisfied: python-dateutil>=2.7 in /Users/mayasrikm/opt/anaconda3/lib/python3.9/site-packages (from matplotlib->neurogym==0.0.2) (2.8.2)\n",
            "Requirement already satisfied: packaging>=20.0 in /Users/mayasrikm/opt/anaconda3/lib/python3.9/site-packages (from matplotlib->neurogym==0.0.2) (21.3)\n",
            "Requirement already satisfied: zipp>=0.5 in /Users/mayasrikm/opt/anaconda3/lib/python3.9/site-packages (from importlib-metadata>=4.8.0->gym->neurogym==0.0.2) (3.8.0)\n",
            "Requirement already satisfied: six>=1.5 in /Users/mayasrikm/opt/anaconda3/lib/python3.9/site-packages (from python-dateutil>=2.7->matplotlib->neurogym==0.0.2) (1.16.0)\n",
            "Installing collected packages: neurogym\n",
            "  Attempting uninstall: neurogym\n",
            "    Found existing installation: neurogym 0.0.2\n",
            "    Uninstalling neurogym-0.0.2:\n",
            "      Successfully uninstalled neurogym-0.0.2\n",
            "  Running setup.py develop for neurogym\n",
            "Successfully installed neurogym-0.0.2\n"
          ]
        }
      ],
      "source": [
        "! pip install gym\n",
        "! git clone https://github.com/gyyang/neurogym.git\n",
        "%cd neurogym/\n",
        "! pip install -e ."
      ]
    },
    {
      "cell_type": "code",
      "execution_count": 11,
      "metadata": {},
      "outputs": [
        {
          "name": "stdout",
          "output_type": "stream",
          "text": [
            "Requirement already satisfied: numpy in /Users/mayasrikm/opt/anaconda3/lib/python3.9/site-packages (1.23.5)\n",
            "Collecting numpy\n",
            "  Downloading numpy-1.26.2-cp39-cp39-macosx_10_9_x86_64.whl (20.6 MB)\n",
            "\u001b[2K     \u001b[90m━━━━━━━━━━━━━━━━━━━━━━━━━━━━━━━━━━━━━━━━\u001b[0m \u001b[32m20.6/20.6 MB\u001b[0m \u001b[31m9.1 MB/s\u001b[0m eta \u001b[36m0:00:00\u001b[0m00:01\u001b[0m00:01\u001b[0m\n",
            "\u001b[?25hInstalling collected packages: numpy\n",
            "  Attempting uninstall: numpy\n",
            "    Found existing installation: numpy 1.23.5\n",
            "    Uninstalling numpy-1.23.5:\n",
            "      Successfully uninstalled numpy-1.23.5\n",
            "\u001b[31mERROR: pip's dependency resolver does not currently take into account all the packages that are installed. This behaviour is the source of the following dependency conflicts.\n",
            "daal4py 2021.6.0 requires daal==2021.4.0, which is not installed.\n",
            "tensorflow 2.12.0 requires numpy<1.24,>=1.22, but you have numpy 1.26.2 which is incompatible.\n",
            "scipy 1.9.1 requires numpy<1.25.0,>=1.18.5, but you have numpy 1.26.2 which is incompatible.\n",
            "numba 0.55.1 requires numpy<1.22,>=1.18, but you have numpy 1.26.2 which is incompatible.\u001b[0m\u001b[31m\n",
            "\u001b[0mSuccessfully installed numpy-1.26.2\n",
            "Note: you may need to restart the kernel to use updated packages.\n"
          ]
        }
      ],
      "source": [
        "%pip install numpy --upgrade"
      ]
    },
    {
      "cell_type": "code",
      "execution_count": 8,
      "metadata": {
        "id": "uysqnI7zUWC3"
      },
      "outputs": [],
      "source": [
        "# Environment\n",
        "from tasks import PerceptualDecisionMaking\n",
        "env = PerceptualDecisionMaking()\n",
        "_ = env.reset()\n",
        "ob_size = env.observation_space.shape[0]\n",
        "act_size = env.action_space.n"
      ]
    },
    {
      "cell_type": "code",
      "execution_count": 65,
      "metadata": {},
      "outputs": [
        {
          "name": "stderr",
          "output_type": "stream",
          "text": [
            "  0%|          | 0/200 [00:00<?, ?it/s]\n"
          ]
        },
        {
          "ename": "ValueError",
          "evalue": "operands could not be broadcast together with shapes (66,) (3,) ",
          "output_type": "error",
          "traceback": [
            "\u001b[0;31m---------------------------------------------------------------------------\u001b[0m",
            "\u001b[0;31mValueError\u001b[0m                                Traceback (most recent call last)",
            "\u001b[0;32m/var/folders/_g/j2y9vtn122jc1dcl456z2szm0000gn/T/ipykernel_88190/3419531986.py\u001b[0m in \u001b[0;36m<module>\u001b[0;34m\u001b[0m\n\u001b[1;32m     16\u001b[0m   \u001b[0;32melse\u001b[0m\u001b[0;34m:\u001b[0m\u001b[0;34m\u001b[0m\u001b[0;34m\u001b[0m\u001b[0m\n\u001b[1;32m     17\u001b[0m       \u001b[0maction\u001b[0m \u001b[0;34m=\u001b[0m \u001b[0mnp\u001b[0m\u001b[0;34m.\u001b[0m\u001b[0margmax\u001b[0m\u001b[0;34m(\u001b[0m\u001b[0mQ\u001b[0m\u001b[0;34m)\u001b[0m\u001b[0;34m%\u001b[0m \u001b[0mact_size\u001b[0m\u001b[0;34m\u001b[0m\u001b[0;34m\u001b[0m\u001b[0m\n\u001b[0;32m---> 18\u001b[0;31m   \u001b[0mV\u001b[0m \u001b[0;34m=\u001b[0m \u001b[0mnp\u001b[0m\u001b[0;34m.\u001b[0m\u001b[0mmultiply\u001b[0m\u001b[0;34m(\u001b[0m\u001b[0mphi\u001b[0m\u001b[0;34m,\u001b[0m\u001b[0mw\u001b[0m\u001b[0;34m)\u001b[0m\u001b[0;34m\u001b[0m\u001b[0;34m\u001b[0m\u001b[0m\n\u001b[0m\u001b[1;32m     19\u001b[0m   \u001b[0mQ\u001b[0m\u001b[0;34m[\u001b[0m\u001b[0;34m:\u001b[0m\u001b[0;34m,\u001b[0m \u001b[0maction\u001b[0m\u001b[0;34m]\u001b[0m \u001b[0;34m=\u001b[0m \u001b[0mQ\u001b[0m\u001b[0;34m[\u001b[0m\u001b[0;34m:\u001b[0m\u001b[0;34m,\u001b[0m \u001b[0maction\u001b[0m\u001b[0;34m]\u001b[0m\u001b[0;34m+\u001b[0m\u001b[0malpha\u001b[0m\u001b[0;34m*\u001b[0m\u001b[0mV\u001b[0m\u001b[0;34m\u001b[0m\u001b[0;34m\u001b[0m\u001b[0m\n\u001b[1;32m     20\u001b[0m \u001b[0;34m\u001b[0m\u001b[0m\n",
            "\u001b[0;31mValueError\u001b[0m: operands could not be broadcast together with shapes (66,) (3,) "
          ]
        }
      ],
      "source": [
        "import numpy as np\n",
        "from tqdm import tqdm\n",
        "episodes = 200\n",
        "epsilon = 0.1\n",
        "gamma=0.9\n",
        "_ = env.reset()\n",
        "alpha = 0.1\n",
        "Q = np.zeros((ob_size, act_size))\n",
        "phi = np.zeros((1, ob_size)) \n",
        "w = np.random.randn(ob_size) \n",
        "for i in tqdm(range(episodes)):\n",
        "  trial = env.new_trial()\n",
        "  phi= env.ob.flatten()\n",
        "  if np.max(Q) == 0 or np.random.rand() < epsilon:\n",
        "      action = env.action_space.sample()\n",
        "  else:\n",
        "      action = np.argmax(Q) % act_size\n",
        "  V = np.multiply(phi,w) \n",
        "  Q[:, action] = Q[:, action]+alpha*V\n",
        "     \n",
        "  phi, r, done, _ = env.step(action)\n",
        "  phi = phi.flatten()\n",
        "  rpe = r+gamma*(np.multiply(phi, w)-V) \n",
        "  w = w + alpha*phi*rpe  "
      ]
    }
  ],
  "metadata": {
    "colab": {
      "provenance": []
    },
    "kernelspec": {
      "display_name": "Python 3",
      "name": "python3"
    },
    "language_info": {
      "codemirror_mode": {
        "name": "ipython",
        "version": 3
      },
      "file_extension": ".py",
      "mimetype": "text/x-python",
      "name": "python",
      "nbconvert_exporter": "python",
      "pygments_lexer": "ipython3",
      "version": "3.9.13"
    }
  },
  "nbformat": 4,
  "nbformat_minor": 0
}
