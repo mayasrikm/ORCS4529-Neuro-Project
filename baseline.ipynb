{
  "nbformat": 4,
  "nbformat_minor": 0,
  "metadata": {
    "colab": {
      "provenance": []
    },
    "kernelspec": {
      "name": "python3",
      "display_name": "Python 3"
    },
    "language_info": {
      "name": "python"
    }
  },
  "cells": [
    {
      "cell_type": "code",
      "source": [
        "! pip install gym\n",
        "! git clone https://github.com/gyyang/neurogym.git\n",
        "%cd neurogym/\n",
        "! pip install -e .\n",
        "! pip install tasks\n"
      ],
      "metadata": {
        "id": "04UwqVpoPeXi"
      },
      "execution_count": null,
      "outputs": []
    },
    {
      "cell_type": "code",
      "source": [
        "!pip install shimmy"
      ],
      "metadata": {
        "id": "qLvpspSm9ee2"
      },
      "execution_count": null,
      "outputs": []
    },
    {
      "cell_type": "code",
      "source": [
        "!pip install wandb -qqq\n",
        "import wandb\n",
        "wandb.login()\n",
        "run=wandb.init()"
      ],
      "metadata": {
        "id": "NoRc2zeUUqzS"
      },
      "execution_count": null,
      "outputs": []
    },
    {
      "cell_type": "code",
      "source": [
        "# Environment\n",
        "task = 'DawTwoStep-v0'\n",
        "kwargs = {'dt': 100}\n",
        "seq_len = 100\n",
        "env = ngym.make(task, **kwargs)\n",
        "ob_size = env.observation_space.shape[0]\n",
        "act_size = env.action_space.n"
      ],
      "metadata": {
        "id": "uysqnI7zUWC3"
      },
      "execution_count": null,
      "outputs": []
    },
    {
      "cell_type": "code",
      "execution_count": 10,
      "metadata": {
        "colab": {
          "base_uri": "https://localhost:8080/"
        },
        "id": "KkEK1VsWPZTe",
        "outputId": "cef235f1-be72-4fc8-d280-63f1fa55566b"
      },
      "outputs": [
        {
          "output_type": "stream",
          "name": "stderr",
          "text": [
            "100%|██████████| 2000/2000 [00:09<00:00, 201.53it/s]\n"
          ]
        }
      ],
      "source": [
        "from re import template\n",
        "import torch\n",
        "import torch.nn as nn\n",
        "import torch.optim as optim\n",
        "import numpy as np\n",
        "import neurogym as ngym\n",
        "from tqdm import tqdm\n",
        "\n",
        "\n",
        "alpha=0.1\n",
        "gamma=0.9\n",
        "epsilon=1.0\n",
        "_ = env.reset()\n",
        "\n",
        "\n",
        "class Agent:\n",
        "    def __init__(self):\n",
        "        self.Q = np.zeros([ob_size,act_size])\n",
        "\n",
        "    def selectAction(self, cortex_state):\n",
        "        ob = np.argmax(cortex_state)\n",
        "        if np.max(self.Q[ob,:]) == 0 or np.random.rand() < epsilon:\n",
        "            action = env.action_space.sample()\n",
        "        else:\n",
        "            action = np.argmax(self.Q[ob,:])\n",
        "        return action\n",
        "\n",
        "    def updateQ(self, cortex_state, action, reward, next_cortex_state, done):\n",
        "        ob, new_ob= np.argmax(cortex_state), np.argmax(next_cortex_state)\n",
        "        next_action = np.argmax(self.Q[new_ob,:])\n",
        "        scalar_rpe = reward + (gamma*self.Q[new_ob, next_action])-self.Q[ob, action]\n",
        "        self.Q[ob, action] += alpha*scalar_rpe\n",
        "\n",
        "agent = Agent()\n",
        "device = 'cuda' if torch.cuda.is_available() else 'cpu'\n",
        "episodes = 2000\n",
        "trial = env.new_trial()\n",
        "episode_max_length= 100\n",
        "for i in tqdm(range(episodes)):\n",
        "    total_reward = 0\n",
        "    cortex_state = env.reset()\n",
        "    d = False\n",
        "    for t in range(episode_max_length):\n",
        "        action = agent.selectAction(cortex_state)\n",
        "        next_cortex_state, reward, d, _ = env.step(action)\n",
        "        agent.updateQ(cortex_state, action, reward, next_cortex_state, d)\n",
        "        cortex_state = next_cortex_state\n",
        "        total_reward += reward\n",
        "        if d == True:\n",
        "            break\n",
        "env.close()"
      ]
    }
  ]
}