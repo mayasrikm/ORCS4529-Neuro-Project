{
  "cells": [
    {
      "cell_type": "code",
      "execution_count": 13,
      "metadata": {
        "id": "LWxz6P5nQWiz"
      },
      "outputs": [],
      "source": [
        "import numpy as np\n",
        "import torch\n",
        "import torch.nn as nn\n",
        "\n",
        "import neurogym as ngym\n",
        "\n",
        "from tasks import AverageDirectionTest\n",
        "from tasks import PerceptualDecisionMaking\n",
        "\n",
        "# Environment\n",
        "env = PerceptualDecisionMaking()\n",
        "_ = env.reset()\n",
        "ob_size = env.observation_space.shape[0]\n",
        "act_size = env.action_space.n\n",
        "num_neurons = ob_size"
      ]
    },
    {
      "cell_type": "code",
      "execution_count": 14,
      "metadata": {
        "id": "EBiuBbAIp-GI"
      },
      "outputs": [],
      "source": [
        "#Initialize variables\n",
        "alpha = 0.1\n",
        "training_episodes = 200\n",
        "phi = np.zeros((1, ob_size))          # (1, obs_size) denotes inputs from environment, zeros are placeholder for what the actual input values are\n",
        "w = np.random.randn(num_neurons, ob_size)  # (obs_size, 1) weights used to learn importance of each input\n",
        "#create sparse array B\n",
        "B = np.zeros((num_neurons, ob_size)) #(num_neurons, num_inputs) represents weighted combination of what input values each neuron sees\n",
        "num_elements = num_neurons * ob_size\n",
        "sparsity = 0.2\n",
        "indices = np.random.choice(num_elements, round(num_elements*sparsity), replace=False)\n",
        "B.flat[indices] = np.random.randn(round(num_elements*sparsity))"
      ]
    },
    {
      "cell_type": "code",
      "execution_count": 16,
      "metadata": {},
      "outputs": [
        {
          "name": "stdout",
          "output_type": "stream",
          "text": [
            "(3, 3)\n",
            "(3, 3)\n",
            "(1, 3)\n",
            "(22, 3)\n"
          ]
        }
      ],
      "source": [
        "print(B.shape)\n",
        "print(w.shape)\n",
        "print(phi.shape)\n",
        "phi, gt = env.ob, env.gt\n",
        "print(phi.shape)\n"
      ]
    },
    {
      "cell_type": "code",
      "execution_count": null,
      "metadata": {
        "id": "8Fbe2k6lQmTM"
      },
      "outputs": [],
      "source": [
        "#Train loop -- need to figure out how to get scalar V for each neuron\n",
        "for i in training_episodes: \n",
        "  trial = env.new_trial()\n",
        "  phi, gt = env.ob, env.gt\n",
        "  V = w @ phi.T                  # (num_neurons, num_objects) list of values for each neuron\n",
        "  D =  B @ V                      # (num_neurons, 1) list of decisions between left (0) and right (1)\n",
        "  action = np.clip(round(D), 0, 1)\n",
        "  phi, reward, done, misc_dict = env.step(action)\n",
        "  # r = env.get_reward_vals         # (num_neurons, 1) correct decisions -- get_reward_vals needs to return the correct decision given the environment state\n",
        "  delta = abs(D - reward)              # (num_neurons, 1) error between decision and correct decision\n",
        "  w = w + alpha*(B.T*delta)       #w update"
      ]
    }
  ],
  "metadata": {
    "colab": {
      "provenance": []
    },
    "kernelspec": {
      "display_name": "Python 3",
      "name": "python3"
    },
    "language_info": {
      "codemirror_mode": {
        "name": "ipython",
        "version": 3
      },
      "file_extension": ".py",
      "mimetype": "text/x-python",
      "name": "python",
      "nbconvert_exporter": "python",
      "pygments_lexer": "ipython3",
      "version": "3.8.18"
    }
  },
  "nbformat": 4,
  "nbformat_minor": 0
}
